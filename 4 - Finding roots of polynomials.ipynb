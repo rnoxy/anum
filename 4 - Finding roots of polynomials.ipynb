{
 "cells": [
  {
   "cell_type": "markdown",
   "metadata": {},
   "source": [
    "# Numerical methods for finding roots of polynomials"
   ]
  },
  {
   "cell_type": "markdown",
   "metadata": {},
   "source": [
    "Let us consider the polynomial $$ p(x) = 2x^6 +  25x^5 -  4x^4 + 13x^3 + 172x^2 - 7x - 24. $$"
   ]
  },
  {
   "cell_type": "code",
   "execution_count": 1,
   "metadata": {
    "ExecuteTime": {
     "end_time": "2018-10-30T07:53:37.377000+01:00",
     "start_time": "2018-10-30T06:53:35.878Z"
    }
   },
   "outputs": [],
   "source": [
    "using Printf"
   ]
  },
  {
   "cell_type": "code",
   "execution_count": 2,
   "metadata": {
    "ExecuteTime": {
     "end_time": "2018-10-30T07:53:38.665000+01:00",
     "start_time": "2018-10-30T06:53:35.883Z"
    }
   },
   "outputs": [
    {
     "data": {
      "text/html": [
       "&#45;24.0 &#45; 7.0&#8729;x &#43; 172.0&#8729;x^2 &#43; 13.0&#8729;x^3 &#45; 4.0&#8729;x^4 &#43; 25.0&#8729;x^5 &#43; 2.0&#8729;x^6"
      ],
      "text/plain": [
       "Poly(-24.0 - 7.0*x + 172.0*x^2 + 13.0*x^3 - 4.0*x^4 + 25.0*x^5 + 2.0*x^6)"
      ]
     },
     "execution_count": 2,
     "metadata": {},
     "output_type": "execute_result"
    }
   ],
   "source": [
    "using Polynomials\n",
    "\n",
    "# p(x) = 2x^6 +  25x^5 -  4x^4 + 13x^3 + 172x^2 - 7x - 24\n",
    "a = reverse(  Array{Float64,1}([ 2, 25, -4, 13, 172, -7, -24 ]) )\n",
    "p = Poly(a)"
   ]
  },
  {
   "cell_type": "code",
   "execution_count": 3,
   "metadata": {
    "ExecuteTime": {
     "end_time": "2018-10-30T07:54:00.400000+01:00",
     "start_time": "2018-10-30T06:53:35.889Z"
    }
   },
   "outputs": [
    {
     "data": {
      "text/html": [
       "    <script class='js-collapse-script'>\n",
       "        var curMatch =\n",
       "            window.location.href\n",
       "            .match(/(.*?)\\/notebooks\\/.*\\.ipynb/);\n",
       "\n",
       "        curMatch = curMatch ||\n",
       "            window.location.href\n",
       "            .match(/(.*?)\\/apps\\/.*\\.ipynb/);\n",
       "\n",
       "        if ( curMatch ) {\n",
       "            $('head').append('<base href=\"' + curMatch[1] + '/\">');\n",
       "        }\n",
       "    </script>\n"
      ],
      "text/plain": [
       "HTML{String}(\"    <script class='js-collapse-script'>\\n        var curMatch =\\n            window.location.href\\n            .match(/(.*?)\\\\/notebooks\\\\/.*\\\\.ipynb/);\\n\\n        curMatch = curMatch ||\\n            window.location.href\\n            .match(/(.*?)\\\\/apps\\\\/.*\\\\.ipynb/);\\n\\n        if ( curMatch ) {\\n            \\$('head').append('<base href=\\\"' + curMatch[1] + '/\\\">');\\n        }\\n    </script>\\n\")"
      ]
     },
     "metadata": {},
     "output_type": "display_data"
    },
    {
     "data": {
      "text/html": [
       "<script class='js-collapse-script' src='/assetserver/a3031b2c48b2879caffc1e55af1c24b5fb8a1364-assets/webio/dist/bundle.js'></script>"
      ],
      "text/plain": [
       "HTML{String}(\"<script class='js-collapse-script' src='/assetserver/a3031b2c48b2879caffc1e55af1c24b5fb8a1364-assets/webio/dist/bundle.js'></script>\")"
      ]
     },
     "metadata": {},
     "output_type": "display_data"
    },
    {
     "data": {
      "text/html": [
       "<script class='js-collapse-script' src='/assetserver/a3031b2c48b2879caffc1e55af1c24b5fb8a1364-assets/providers/ijulia_setup.js'></script>"
      ],
      "text/plain": [
       "HTML{String}(\"<script class='js-collapse-script' src='/assetserver/a3031b2c48b2879caffc1e55af1c24b5fb8a1364-assets/providers/ijulia_setup.js'></script>\")"
      ]
     },
     "metadata": {},
     "output_type": "display_data"
    },
    {
     "data": {
      "text/html": [
       "  <script class='js-collapse-script'>\n",
       "    $('.js-collapse-script').parent('.output_subarea').css('padding', '0');\n",
       "  </script>\n"
      ],
      "text/plain": [
       "HTML{String}(\"  <script class='js-collapse-script'>\\n    \\$('.js-collapse-script').parent('.output_subarea').css('padding', '0');\\n  </script>\\n\")"
      ]
     },
     "metadata": {},
     "output_type": "display_data"
    },
    {
     "data": {
      "text/html": [
       "<div class='display:none'></div><unsafe-script style='display:none'>\n",
       "WebIO.mount(this.previousSibling,{&quot;props&quot;:{},&quot;nodeType&quot;:&quot;Scope&quot;,&quot;type&quot;:&quot;node&quot;,&quot;instanceArgs&quot;:{&quot;imports&quot;:{&quot;data&quot;:[{&quot;name&quot;:&quot;Plotly&quot;,&quot;type&quot;:&quot;js&quot;,&quot;url&quot;:&quot;/assetserver/18dccba89c2ff7644fa0aa50787bcbc1ac0c84a4-plotly-latest.min.js&quot;},{&quot;name&quot;:null,&quot;type&quot;:&quot;js&quot;,&quot;url&quot;:&quot;/assetserver/f57709469634359678732be66ae4e71633b5e446-plotly_webio.bundle.js&quot;}],&quot;type&quot;:&quot;async_block&quot;},&quot;id&quot;:&quot;scope-93164012-acde-47a4-b191-539661da9e7f&quot;,&quot;handlers&quot;:{&quot;_toImage&quot;:[(function (options){return this.Plotly.toImage(this.plotElem,options).then((function (data){return WebIO.setval({&quot;name&quot;:&quot;image&quot;,&quot;scope&quot;:&quot;scope-93164012-acde-47a4-b191-539661da9e7f&quot;,&quot;id&quot;:&quot;ob_05&quot;,&quot;type&quot;:&quot;observable&quot;},data)}))})],&quot;__get_gd_contents&quot;:[(function (prop){prop==&quot;data&quot; ? (WebIO.setval({&quot;name&quot;:&quot;__gd_contents&quot;,&quot;scope&quot;:&quot;scope-93164012-acde-47a4-b191-539661da9e7f&quot;,&quot;id&quot;:&quot;ob_06&quot;,&quot;type&quot;:&quot;observable&quot;},this.plotElem.data)) : undefined; return prop==&quot;layout&quot; ? (WebIO.setval({&quot;name&quot;:&quot;__gd_contents&quot;,&quot;scope&quot;:&quot;scope-93164012-acde-47a4-b191-539661da9e7f&quot;,&quot;id&quot;:&quot;ob_06&quot;,&quot;type&quot;:&quot;observable&quot;},this.plotElem.layout)) : undefined})],&quot;_promises&quot;:{&quot;importsLoaded&quot;:[(function (Plotly){var gd=this.dom.querySelector(&quot;#plot-cc45ca17-f7f5-45bf-a93e-770442ca0ed6&quot;); this.plotElem=gd; this.Plotly=Plotly; (window.Blink!==undefined) ? (gd.style.width=&quot;100%&quot;, gd.style.height=&quot;100vh&quot;, gd.style.marginLeft=&quot;0%&quot;, gd.style.marginTop=&quot;0vh&quot;) : undefined; window.onresize=(function (){return Plotly.Plots.resize(gd)}); Plotly.newPlot(gd,[{&quot;y&quot;:[-162.0,-73.38664659719015,-2.774976430748861,51.98801337421945,92.91430470896417,121.87635882709839,140.6090428243835,150.71198225229284,153.65233986535208,150.76802050225734,143.27130210077055,132.25289284639268,118.68641445481413,103.43331158814237,87.24818740490781,70.78456524384634,54.60107644145978,39.16807428335364,24.874674089352425,12.036219432392372,0.9021744911916798,-8.335557463301857,-15.533889447685624,-20.589380012099642,-23.42863635244642,-23.998291288833435,-22.25455411023806,-18.152335285395107,-11.633945039906843,-2.6173657995755306,9.015901500041423,23.43341723785391,40.8648090652389,61.615203997817815,86.0790866410113,114.75458354937143,148.25817371969148,187.33982521789306,232.89855793969082,285.99843250503477,347.8849652863294,420.001969570431,504.008822854423,601.7981602751657,715.513994172629,847.5702597869966,1000.6697870895509,1177.8236987473372,1382.3712342215995,1618.0],&quot;type&quot;:&quot;scatter&quot;,&quot;name&quot;:&quot;getfield(Main, Symbol(\\&quot;##3#4\\&quot;))()&quot;,&quot;x&quot;:[-2.0,-1.9183673469387754,-1.836734693877551,-1.7551020408163265,-1.6734693877551021,-1.5918367346938775,-1.510204081632653,-1.4285714285714286,-1.346938775510204,-1.2653061224489797,-1.183673469387755,-1.1020408163265305,-1.0204081632653061,-0.9387755102040817,-0.8571428571428571,-0.7755102040816326,-0.6938775510204082,-0.6122448979591837,-0.5306122448979592,-0.4489795918367347,-0.3673469387755102,-0.2857142857142857,-0.20408163265306123,-0.12244897959183673,-0.04081632653061224,0.04081632653061224,0.12244897959183673,0.20408163265306123,0.2857142857142857,0.3673469387755102,0.4489795918367347,0.5306122448979592,0.6122448979591837,0.6938775510204082,0.7755102040816326,0.8571428571428571,0.9387755102040817,1.0204081632653061,1.1020408163265305,1.183673469387755,1.2653061224489797,1.346938775510204,1.4285714285714286,1.510204081632653,1.5918367346938775,1.6734693877551021,1.7551020408163265,1.836734693877551,1.9183673469387754,2.0]}],{&quot;margin&quot;:{&quot;l&quot;:50,&quot;b&quot;:50,&quot;r&quot;:50,&quot;t&quot;:60}},{}); gd.on(&quot;plotly_hover&quot;,(function (data){var filtered_data=WebIO.CommandSets.Plotly.filterEventData(gd,data,&quot;hover&quot;); return !(filtered_data.isnil) ? (WebIO.setval({&quot;name&quot;:&quot;hover&quot;,&quot;scope&quot;:&quot;scope-93164012-acde-47a4-b191-539661da9e7f&quot;,&quot;id&quot;:&quot;ob_01&quot;,&quot;type&quot;:&quot;observable&quot;},filtered_data.out)) : undefined})); gd.on(&quot;plotly_unhover&quot;,(function (){return WebIO.setval({&quot;name&quot;:&quot;hover&quot;,&quot;scope&quot;:&quot;scope-93164012-acde-47a4-b191-539661da9e7f&quot;,&quot;id&quot;:&quot;ob_01&quot;,&quot;type&quot;:&quot;observable&quot;},{})})); gd.on(&quot;plotly_selected&quot;,(function (data){var filtered_data=WebIO.CommandSets.Plotly.filterEventData(gd,data,&quot;selected&quot;); return !(filtered_data.isnil) ? (WebIO.setval({&quot;name&quot;:&quot;selected&quot;,&quot;scope&quot;:&quot;scope-93164012-acde-47a4-b191-539661da9e7f&quot;,&quot;id&quot;:&quot;ob_02&quot;,&quot;type&quot;:&quot;observable&quot;},filtered_data.out)) : undefined})); gd.on(&quot;plotly_deselect&quot;,(function (){return WebIO.setval({&quot;name&quot;:&quot;selected&quot;,&quot;scope&quot;:&quot;scope-93164012-acde-47a4-b191-539661da9e7f&quot;,&quot;id&quot;:&quot;ob_02&quot;,&quot;type&quot;:&quot;observable&quot;},{})})); gd.on(&quot;plotly_relayout&quot;,(function (data){var filtered_data=WebIO.CommandSets.Plotly.filterEventData(gd,data,&quot;relayout&quot;); return !(filtered_data.isnil) ? (WebIO.setval({&quot;name&quot;:&quot;relayout&quot;,&quot;scope&quot;:&quot;scope-93164012-acde-47a4-b191-539661da9e7f&quot;,&quot;id&quot;:&quot;ob_04&quot;,&quot;type&quot;:&quot;observable&quot;},filtered_data.out)) : undefined})); return gd.on(&quot;plotly_click&quot;,(function (data){var filtered_data=WebIO.CommandSets.Plotly.filterEventData(gd,data,&quot;click&quot;); return !(filtered_data.isnil) ? (WebIO.setval({&quot;name&quot;:&quot;click&quot;,&quot;scope&quot;:&quot;scope-93164012-acde-47a4-b191-539661da9e7f&quot;,&quot;id&quot;:&quot;ob_03&quot;,&quot;type&quot;:&quot;observable&quot;},filtered_data.out)) : undefined}))})]},&quot;_downloadImage&quot;:[(function (options){return this.Plotly.downloadImage(this.plotElem,options)})],&quot;_commands&quot;:[(function (args){var fn=args.shift(); var elem=this.plotElem; var Plotly=this.Plotly; args.unshift(elem); return Plotly[fn].apply(this,args)})]},&quot;systemjs_options&quot;:null,&quot;observables&quot;:{&quot;_toImage&quot;:{&quot;sync&quot;:false,&quot;id&quot;:&quot;ob_08&quot;,&quot;value&quot;:{}},&quot;hover&quot;:{&quot;sync&quot;:false,&quot;id&quot;:&quot;ob_01&quot;,&quot;value&quot;:{}},&quot;selected&quot;:{&quot;sync&quot;:false,&quot;id&quot;:&quot;ob_02&quot;,&quot;value&quot;:{}},&quot;__gd_contents&quot;:{&quot;sync&quot;:false,&quot;id&quot;:&quot;ob_06&quot;,&quot;value&quot;:{}},&quot;click&quot;:{&quot;sync&quot;:false,&quot;id&quot;:&quot;ob_03&quot;,&quot;value&quot;:{}},&quot;image&quot;:{&quot;sync&quot;:true,&quot;id&quot;:&quot;ob_05&quot;,&quot;value&quot;:&quot;&quot;},&quot;__get_gd_contents&quot;:{&quot;sync&quot;:false,&quot;id&quot;:&quot;ob_10&quot;,&quot;value&quot;:&quot;&quot;},&quot;_downloadImage&quot;:{&quot;sync&quot;:false,&quot;id&quot;:&quot;ob_09&quot;,&quot;value&quot;:{}},&quot;relayout&quot;:{&quot;sync&quot;:false,&quot;id&quot;:&quot;ob_04&quot;,&quot;value&quot;:{}},&quot;_commands&quot;:{&quot;sync&quot;:false,&quot;id&quot;:&quot;ob_07&quot;,&quot;value&quot;:[]}}},&quot;children&quot;:[{&quot;props&quot;:{&quot;id&quot;:&quot;plot-cc45ca17-f7f5-45bf-a93e-770442ca0ed6&quot;},&quot;nodeType&quot;:&quot;DOM&quot;,&quot;type&quot;:&quot;node&quot;,&quot;instanceArgs&quot;:{&quot;namespace&quot;:&quot;html&quot;,&quot;tag&quot;:&quot;div&quot;},&quot;children&quot;:[]}]})</unsafe-script>"
      ],
      "text/plain": [
       "data: [\n",
       "  \"scatter with fields name, type, x, and y\"\n",
       "]\n",
       "\n",
       "layout: \"layout with field margin\"\n",
       "\n"
      ]
     },
     "execution_count": 3,
     "metadata": {},
     "output_type": "execute_result"
    }
   ],
   "source": [
    "using Plotly\n",
    "plot( x -> p(x), -2, 2 )"
   ]
  },
  {
   "cell_type": "markdown",
   "metadata": {},
   "source": [
    "## Computing derivatives with Horner's method"
   ]
  },
  {
   "cell_type": "code",
   "execution_count": 4,
   "metadata": {
    "ExecuteTime": {
     "end_time": "2018-10-30T07:54:07.643000+01:00",
     "start_time": "2018-10-30T06:53:35.894Z"
    }
   },
   "outputs": [],
   "source": [
    "# Horner algorithm computing p(z) with given coefficients of p\n",
    "function Horner0( a, z )\n",
    "    n = length(a)\n",
    "    p = a[n]\n",
    "    for k = n-1:-1:1            \n",
    "        p = a[k] + z*p\n",
    "    end\n",
    "    return p\n",
    "end\n",
    "\n",
    "# Horner algorithms computing p(z) and p'(z) with given coefficients of p\n",
    "function Horner1( a, z )\n",
    "    n  = length(a)\n",
    "    p  = a[n]\n",
    "    ∂p = 0\n",
    "    for k = n-1:-1:1            \n",
    "        ∂p  = p    + z*∂p\n",
    "        p   = a[k] + z*p\n",
    "    end\n",
    "    return p, ∂p\n",
    "end\n",
    "\n",
    "# Horner algorithms computing p(z),p'(z),p''(z) with given coefficients of p\n",
    "function Horner2( a, z )\n",
    "    n   = length(a)\n",
    "    p   = a[n-1] + z*a[n]\n",
    "    ∂p  = a[n]\n",
    "    ∂∂p = zero( z )\n",
    "    for k = n-2:-1:1            \n",
    "        ∂∂p = ∂p   + z*∂∂p\n",
    "        ∂p  = p    + z*∂p\n",
    "        p   = a[k] + z*p\n",
    "    end\n",
    "    return p, ∂p, ∂∂p*2\n",
    "end\n",
    "\n",
    "\n",
    "# Test of Horner2\n",
    "function test_Horner2( coeffs, z )\n",
    "    p   = Poly(coeffs)\n",
    "    dp  = polyder(p)\n",
    "    ddp = polyder(dp)\n",
    "    a,b,c = Horner2( coeffs, z )\n",
    "    @assert( abs(a - p(z)) < 1e-10 )\n",
    "    @assert( abs(b- dp(z)) < 1e-10 )\n",
    "    @assert( abs(c-ddp(z)) < 1e-10 )\n",
    "end\n",
    "\n",
    "test_Horner2( a,  0.78  )\n",
    "test_Horner2( a,  0.178 )\n",
    "test_Horner2( a,  5.78 )\n",
    "test_Horner2( a, -6.78 )"
   ]
  },
  {
   "cell_type": "code",
   "execution_count": 5,
   "metadata": {
    "ExecuteTime": {
     "end_time": "2018-10-30T07:54:08.680000+01:00",
     "start_time": "2018-10-30T06:53:35.899Z"
    }
   },
   "outputs": [
    {
     "ename": "AssertionError",
     "evalue": "AssertionError: abs(b - dp(z)) < 1.0e-10",
     "output_type": "error",
     "traceback": [
      "AssertionError: abs(b - dp(z)) < 1.0e-10",
      "",
      "Stacktrace:",
      " [1] test_Horner2(::Array{Float64,1}, ::Float64) at ./In[4]:45",
      " [2] top-level scope at In[5]:1"
     ]
    }
   ],
   "source": [
    "# Remark: the following test fails\n",
    "test_Horner2( a, -12.78 )"
   ]
  },
  {
   "cell_type": "markdown",
   "metadata": {},
   "source": [
    "## Newton's method"
   ]
  },
  {
   "cell_type": "code",
   "execution_count": 6,
   "metadata": {
    "ExecuteTime": {
     "end_time": "2018-10-30T07:54:09.161000+01:00",
     "start_time": "2018-10-30T06:53:35.902Z"
    }
   },
   "outputs": [],
   "source": [
    "# Newton's method\n",
    "# Input :\n",
    "#   coeffs - coefficients of polynomial\n",
    "#   x0     - initial approximation\n",
    "#\n",
    "# Optional parameters:\n",
    "#   *) stopping criteria\n",
    "#        ɛs   - relative error of two consecutive approximations\n",
    "#        imax - max number of iterations\n",
    "#   *) verbose mode\n",
    "#        print = true | false\n",
    "#\n",
    "# Output\n",
    "#   xr   - approximation of the root\n",
    "#   ϵ    - absolute error estimation\n",
    "#   iter - number of iterations performed\n",
    "#\n",
    "function newton( coeffs, x0; ɛs=1.0e-6, imax=20, print=false )\n",
    "    iter = 0; \n",
    "    xr = x0; \n",
    "    ɛa = one(x0)\n",
    "    xrs = [xr]\n",
    "    if print; @printf(\"Iter %2d : xr=%10.7f  ɛa=%.3e\\n\" , iter, xr, ɛa); end;\n",
    "    while true\n",
    "        xrold = xr\n",
    "        iter  = iter+1\n",
    "        f,df = Horner1( coeffs, xrold )\n",
    "        xr    = xrold - f/df\n",
    "        push!(xrs,xr)\n",
    "        if xr!=0.0\n",
    "            ɛa = abs((xr-xrold)/xr)\n",
    "        end;\n",
    "        if print; @printf(\"Iter %2d : xr=%10.7f  ɛa=%.3e\\n\" , iter, xr, ɛa); end;\n",
    "        if ɛa<ɛs || iter>=imax\n",
    "            break;\n",
    "        end\n",
    "    end\n",
    "    return xr,xrs,iter,ɛa;\n",
    "end;"
   ]
  },
  {
   "cell_type": "code",
   "execution_count": 7,
   "metadata": {
    "ExecuteTime": {
     "end_time": "2018-10-30T07:54:10.623000+01:00",
     "start_time": "2018-10-30T06:53:35.906Z"
    }
   },
   "outputs": [
    {
     "name": "stdout",
     "output_type": "stream",
     "text": [
      "Iter  0 : xr=-2.0000000  ɛa=1.000e+00\n",
      "Iter  1 : xr=-1.8655602  ɛa=7.206e-02\n",
      "Iter  2 : xr=-1.8346276  ɛa=1.686e-02\n",
      "Iter  3 : xr=-1.8330839  ɛa=8.421e-04\n",
      "Iter  4 : xr=-1.8330802  ɛa=2.037e-06\n",
      "Iter  5 : xr=-1.8330802  ɛa=1.190e-11\n"
     ]
    },
    {
     "data": {
      "text/plain": [
       "(-1.833080209420786, [-2.0, -1.86556, -1.83463, -1.83308, -1.83308, -1.83308], 5, 1.1904728235717812e-11)"
      ]
     },
     "execution_count": 7,
     "metadata": {},
     "output_type": "execute_result"
    }
   ],
   "source": [
    "newton( a, -2.0 , print=true)"
   ]
  },
  {
   "cell_type": "code",
   "execution_count": 8,
   "metadata": {
    "ExecuteTime": {
     "end_time": "2018-10-30T07:54:10.646000+01:00",
     "start_time": "2018-10-30T06:53:35.909Z"
    }
   },
   "outputs": [
    {
     "data": {
      "text/plain": [
       "(-0.360075794873698, [-1.0, -0.371585, -0.360225, -0.360076, -0.360076], 4, 7.240078984326531e-8)"
      ]
     },
     "execution_count": 8,
     "metadata": {},
     "output_type": "execute_result"
    }
   ],
   "source": [
    "newton( a, -1.0 )"
   ]
  },
  {
   "cell_type": "code",
   "execution_count": 9,
   "metadata": {
    "ExecuteTime": {
     "end_time": "2018-10-30T07:54:10.649000+01:00",
     "start_time": "2018-10-30T06:53:35.914Z"
    }
   },
   "outputs": [
    {
     "data": {
      "text/plain": [
       "(0.38745680836108753, [0.5, 0.402245, 0.387769, 0.387457, 0.387457], 4, 3.7325544295269393e-7)"
      ]
     },
     "execution_count": 9,
     "metadata": {},
     "output_type": "execute_result"
    }
   ],
   "source": [
    "newton( a, 0.5 )"
   ]
  },
  {
   "cell_type": "code",
   "execution_count": 10,
   "metadata": {
    "ExecuteTime": {
     "end_time": "2018-10-30T07:54:12.241000+01:00",
     "start_time": "2018-10-30T06:53:35.918Z"
    }
   },
   "outputs": [
    {
     "data": {
      "text/plain": [
       "6-element Array{Complex{Float64},1}:\n",
       "  -12.656084636134612 + 0.0im               \n",
       "   0.9808919160340197 + 1.6569153010117608im\n",
       "   0.9808919160340197 - 1.6569153010117608im\n",
       "  -1.8330802094207865 + 0.0im               \n",
       "  0.38745680836105684 + 0.0im               \n",
       " -0.36007579487369734 + 0.0im               "
      ]
     },
     "execution_count": 10,
     "metadata": {},
     "output_type": "execute_result"
    }
   ],
   "source": [
    "# All roots (using Polynomials package)\n",
    "roots(p)"
   ]
  },
  {
   "cell_type": "code",
   "execution_count": 11,
   "metadata": {
    "ExecuteTime": {
     "end_time": "2018-10-30T07:54:13.099000+01:00",
     "start_time": "2018-10-30T06:53:35.922Z"
    }
   },
   "outputs": [
    {
     "data": {
      "text/plain": [
       "(0.3874568083610565 - 6.6763484318441225e-19im, Complex{Float64}[1.0+1.0im, 0.263696+0.973095im, 0.271345+0.342313im, 0.233261+0.0360993im, 0.437278-0.0357529im, 0.389393-0.00455093im, 0.387432-2.62627e-5im, 0.387457+1.92332e-9im, 0.387457-6.67635e-19im], 8, 4.9731557125783815e-9)"
      ]
     },
     "execution_count": 11,
     "metadata": {},
     "output_type": "execute_result"
    }
   ],
   "source": [
    "newton( a, 1.0 + 1.0im ) # --> converges to real root 0.387457"
   ]
  },
  {
   "cell_type": "code",
   "execution_count": 12,
   "metadata": {
    "ExecuteTime": {
     "end_time": "2018-10-30T07:54:13.102000+01:00",
     "start_time": "2018-10-30T06:53:35.926Z"
    }
   },
   "outputs": [
    {
     "data": {
      "text/plain": [
       "(0.9808919160340199 + 1.6569153010117617im, Complex{Float64}[1.0+1.5im, 0.936748+1.68345im, 0.97838+1.65355im, 0.980911+1.65694im, 0.980892+1.65692im, 0.980892+1.65692im], 5, 6.657124243160878e-10)"
      ]
     },
     "execution_count": 12,
     "metadata": {},
     "output_type": "execute_result"
    }
   ],
   "source": [
    "newton( a, 1.0 + 1.5im ) # --> converges to complex root 0.980892+1.65692im"
   ]
  },
  {
   "cell_type": "markdown",
   "metadata": {},
   "source": [
    "Hence the problem is to find ***good initial approximation***."
   ]
  },
  {
   "cell_type": "markdown",
   "metadata": {},
   "source": [
    "# Bairstow's method\n",
    "TODO: translate polish -> english"
   ]
  },
  {
   "cell_type": "markdown",
   "metadata": {},
   "source": [
    "## Wprowadzenie\n",
    "Rozpatrzmy wielomian\n",
    "$$ p(z) = a_n z^n + a_{n-1} z^{n-1} + \\ldots + a_0. $$\n",
    "\n",
    "**Twierdzenie 1.**\n",
    "Dzielenie wielomianu $p(z)$ przez czynnik kwaratowy $z^2 - uz - v$ daje iloraz i resztę, równe odpowiednio\n",
    "$$ \\begin{align*}\n",
    "q(z) &:= b_n z^{n-2} + b_{n-1} z^{n-3} + \\ldots + b_3z + b_2,\\\\\n",
    "r(z) &:= b_1(z-u) + b_0,\n",
    "\\end{align*}$$\n",
    "których współczynniki można obliczać rekurencyjnie według wzorów\n",
    "$$ b_{n+1}=b_{n+2}=0, \\qquad b_k = a_k + ub_{k+1} + vb_{k+2} \\quad (n\\geq k\\geq 0). $$\n",
    "\n",
    "Dowód [Tw. 3.5.13, s. 108]{KincaidCheney}.\n",
    "\n",
    "\n",
    "Wprowadźmy oznaczenia\n",
    "$$ c_k := \\frac{\\partial b_k}{\\partial u}, \\qquad d_k := \\frac{\\partial b_{k-1}}{\\partial v}. $$\n",
    "**Twierdzenie 2.**\n",
    "Wielkości $c_k$ i $d_k$ spełniają ten sam związek rekurencyjny z takimi samymi wartościami początkowymi:\n",
    "$$ \\begin{align*} c_k &= b_{k+1} + uc_{k+1} + vc_{k+2} \\qquad (c_{n+1}=c_n=0),\\\\\n",
    "d_k &= b_{k+1} + ud_{k+1} + vd_{k+2} \\qquad (d_{n+1}=d_n=0).\\end{align*}$$\n",
    "\n",
    "**Wniosek 3.**\n",
    "Zachodzi równość $c_k=d_k$.\n",
    "\n",
    "## Idea metody\n",
    "Aby znaleźć pierwiastki wielomianu $p(z)$, szukamy takiego czynnika kwadratowego $z^2-uz-v$, dla którego reszta $r(z)$ jest zerem, tzn. $b_1=b_0=0$.\n",
    "Ponieważ $$ b_1 = b_1(u,v), \\qquad b_0=b_0(u,v),$$\n",
    "więc szukamy takich wartości $u,v$, dla których spełnione są dwa równania\n",
    "$$\\begin{align*} b_1(u,v) = 0,\\\\ b_0(u,v)=0. \\end{align*}$$\n",
    "Są to równanie nieliniowe ze względu na $u,v$. Do znalezienia $u,v$ stosujemy zatem metodę Newtona.\n",
    "W $n$ tym kroku metody poszukujemy więc takich poprawek $h_n^{(u)}$, $h_n^{(v)}$, dla których zachodzą następujące dwa równania **liniowe**\n",
    "$$ \\begin{align*}\n",
    "b_0(u_n, v_n) + \\frac{\\partial b_0}{\\partial u}(u_n, v_n) \\cdot h_n^{(u)} + \n",
    "\\frac{\\partial b_0}{\\partial v}(u_n, v_n) \\cdot h_n^{(v)} = 0, \\\\\n",
    "b_1(u_n, v_n) + \\frac{\\partial b_1}{\\partial u}(u_n, v_n) \\cdot h_n^{(u)} + \n",
    "\\frac{\\partial b_1}{\\partial v}(u_n, v_n) \\cdot h_n^{(v)} = 0.\n",
    "\\end{align*}$$\n",
    "\n",
    "Wobec wniosku 3, równanie te można zapisać równoważnie w postaci:\n",
    "$$ \\begin{align*}\n",
    "b_0(u_n, v_n) + c_0(u_n, v_n) \\cdot h_n^{(u)} + \n",
    "c_1(u_n, v_n) \\cdot h_n^{(v)} = 0, \\\\\n",
    "b_1(u_n, v_n) + c_1(u_n, v_n) \\cdot h_n^{(u)} + \n",
    "c_2(u_n, v_n) \\cdot h_n^{(v)} = 0.\n",
    "\\end{align*}$$\n",
    "Stąd\n",
    "$$ \\begin{align*}\n",
    "h_n^{(u)} = (c_1 b_1 - c_2 b_0) / J,\\\\\n",
    "h_n^{(v)} = (c_1 b_0 - c_0 b_1) / J,\n",
    "\\end{align*}\\qquad J=c_0c_2-c_1^2. $$"
   ]
  },
  {
   "cell_type": "code",
   "execution_count": 13,
   "metadata": {
    "ExecuteTime": {
     "end_time": "2018-10-30T07:54:13.299000+01:00",
     "start_time": "2018-10-30T06:53:35.930Z"
    }
   },
   "outputs": [
    {
     "name": "stdout",
     "output_type": "stream",
     "text": [
      "a = Array{Float64, 1}(a) = [-24.0, -7.0, 172.0, 13.0, -4.0, 25.0, 2.0]\n"
     ]
    }
   ],
   "source": [
    "# wektor współczynników a_0, a_1, ..., a_n\n",
    "@show a = Array{Float64,1}( a )\n",
    "n = length(a)-1;"
   ]
  },
  {
   "cell_type": "code",
   "execution_count": 14,
   "metadata": {
    "ExecuteTime": {
     "end_time": "2018-10-30T07:54:13.304000+01:00",
     "start_time": "2018-10-30T06:53:35.934Z"
    }
   },
   "outputs": [
    {
     "data": {
      "text/plain": [
       "6-element Array{Complex{Float64},1}:\n",
       "  -12.656084636134612 + 0.0im               \n",
       "   0.9808919160340197 + 1.6569153010117608im\n",
       "   0.9808919160340197 - 1.6569153010117608im\n",
       "  -1.8330802094207865 + 0.0im               \n",
       "  0.38745680836105684 + 0.0im               \n",
       " -0.36007579487369734 + 0.0im               "
      ]
     },
     "execution_count": 14,
     "metadata": {},
     "output_type": "execute_result"
    }
   ],
   "source": [
    "roots(Poly(a))"
   ]
  },
  {
   "cell_type": "markdown",
   "metadata": {},
   "source": [
    "### Jeden krok metody Bairstowa"
   ]
  },
  {
   "cell_type": "code",
   "execution_count": 15,
   "metadata": {
    "ExecuteTime": {
     "end_time": "2018-10-30T07:54:14.395000+01:00",
     "start_time": "2018-10-30T06:53:35.938Z"
    }
   },
   "outputs": [
    {
     "name": "stdout",
     "output_type": "stream",
     "text": [
      "(j, u, v, b[1], b[2]) = (1, 0.030058972198820557, 0.14075821398483573, -24.0, -7.0)\n",
      "(j, u, v, b[1], b[2]) = (2, 0.027381242843261912, 0.1395218955916894, 0.2358316843262216, 0.4862738375212836)\n",
      "(j, u, v, b[1], b[2]) = (3, 0.027381013496904485, 0.13951381824955633, 0.00139329120004561, 0.00019992227261145246)\n",
      "(j, u, v, b[1], b[2]) = (4, 0.027381013487359312, 0.13951381824983322, 2.3771207224854152e-11, 1.6389551937834312e-9)\n",
      "(j, u, v, b[1], b[2]) = (5, 0.027381013487359312, 0.13951381824983322, 0.0, 0.0)\n",
      "(j, u, v, b[1], b[2]) = (6, 0.027381013487359312, 0.13951381824983322, 0.0, 0.0)\n",
      "(j, u, v, b[1], b[2]) = (7, 0.027381013487359312, 0.13951381824983322, 0.0, 0.0)\n",
      "(j, u, v, b[1], b[2]) = (8, 0.027381013487359312, 0.13951381824983322, 0.0, 0.0)\n",
      "(j, u, v, b[1], b[2]) = (9, 0.027381013487359312, 0.13951381824983322, 0.0, 0.0)\n",
      "(j, u, v, b[1], b[2]) = (10, 0.027381013487359312, 0.13951381824983322, 0.0, 0.0)\n",
      "roots(Poly([-v, -u, 1.0])) = [0.387457, -0.360076]\n"
     ]
    },
    {
     "data": {
      "text/plain": [
       "2-element Array{Float64,1}:\n",
       "  0.38745680836105656\n",
       " -0.36007579487369723"
      ]
     },
     "execution_count": 15,
     "metadata": {},
     "output_type": "execute_result"
    }
   ],
   "source": [
    "maxiter = 10        # maksymalna liczba iteracji w metodzie Newtona\n",
    "\n",
    "b = zeros(Float64, size(a))\n",
    "b[n+1] = a[n+1]     # b_n     = a_n\n",
    "c = zeros(Float64, size(a))\n",
    "c[n+1] = 0.0        # c_n     = 0\n",
    "c[n]   = a[n+1]     # c_{n-1} = a_n\n",
    "\n",
    "u,v = 0.0, 0.0\n",
    "for j = 1:maxiter\n",
    "    b[n] = a[n] + u*b[n+1]\n",
    "    for k=n-2:-1:0\n",
    "        b[k+1] = a[k+1] + u*b[k+2] + v*b[k+3]\n",
    "        c[k+1] = b[k+2] + u*c[k+2] + v*c[k+3]\n",
    "    end\n",
    "    J = c[1]*c[3] - c[2]*c[2]\n",
    "    u = u + (c[2]*b[2] - c[3]*b[1])/J\n",
    "    v = v + (c[2]*b[1] - c[1]*b[2])/J\n",
    "    @show j,u,v,b[1],b[2]\n",
    "end\n",
    "\n",
    "@show roots( Poly([-v,-u,1.0]) )"
   ]
  },
  {
   "cell_type": "markdown",
   "metadata": {},
   "source": [
    "Można zauważyć, że wektor ***b*** zawiera współczynniki ilorazu $q(z)$. Wystarczy zatem wykonać ponownie krok metody dla wektora b[3:end]."
   ]
  },
  {
   "cell_type": "code",
   "execution_count": 16,
   "metadata": {
    "ExecuteTime": {
     "end_time": "2018-10-30T07:54:14.827000+01:00",
     "start_time": "2018-10-30T06:53:35.942Z"
    }
   },
   "outputs": [
    {
     "data": {
      "text/plain": [
       "Bairstow (generic function with 1 method)"
      ]
     },
     "execution_count": 16,
     "metadata": {},
     "output_type": "execute_result"
    }
   ],
   "source": [
    "function Bairstow(a::Vector{Float64}; maxiter=15)    \n",
    "    # maxiter = maksymalna liczba iteracji w metodzie Newtona\n",
    "    \n",
    "    function solve_quadratic_equation(a::Float64,b::Float64,c::Float64)\n",
    "        Δ=b*b-4.0*a*c;\n",
    "        x1,x2 = 0.0, 0.0;\n",
    "        \n",
    "        if (Δ>0.0)\n",
    "            sΔ = sqrt(Δ)\n",
    "            if (b>0.0)\n",
    "                x1 = (-b-sΔ)/(2.0*a)\n",
    "                x2 = c/x1\n",
    "            else\n",
    "                x2 = (-b+sΔ)/(2.0*a)\n",
    "                x1 = c/x2\n",
    "            end\n",
    "        elseif (Δ<0.0)\n",
    "            sΔ = sqrt(-Δ)\n",
    "            if (b>0.0)\n",
    "                x1 = (-b-sΔ*im)/(2.0*a)\n",
    "                x2 = c/x1\n",
    "            else\n",
    "                x2 = (-b+sΔ*im)/(2.0*a)\n",
    "                x1 = c/x2\n",
    "            end\n",
    "        else\n",
    "            x1 = -b/(2.0*a);\n",
    "            x2 = -b/(2.0*a);\n",
    "        end\n",
    "        return x1,x2;\n",
    "    end      \n",
    "    \n",
    "    n = length(a)-1;\n",
    "    α = zeros( Complex{Float64}, n ); _i = 1;\n",
    "    while (n>1)\n",
    "        b = zeros(Float64, size(a))\n",
    "        b[n+1] = a[n+1]     # b_n     = a_n\n",
    "        c = zeros(Float64, size(a))\n",
    "        c[n+1] = 0.0        # c_n     = 0\n",
    "        c[n]   = a[n+1]     # c_{n-1} = a_n\n",
    "\n",
    "        u,v = 0.0, 0.0\n",
    "        for j = 1:maxiter\n",
    "            b[n] = a[n] + u*b[n+1]\n",
    "            for k=n-2:-1:0\n",
    "                b[k+1] = a[k+1] + u*b[k+2] + v*b[k+3]\n",
    "                c[k+1] = b[k+2] + u*c[k+2] + v*c[k+3]\n",
    "            end\n",
    "            J = c[1]*c[3] - c[2]*c[2]\n",
    "            u = u + (c[2]*b[2] - c[3]*b[1])/J\n",
    "            v = v + (c[2]*b[1] - c[1]*b[2])/J\n",
    "            j,u,v,b[1],b[2]\n",
    "        end\n",
    "        x1,x2 = solve_quadratic_equation(1.0,-u,-v)\n",
    "        α[_i] = x1; α[_i+1] = x2; _i = _i+2;\n",
    "        a = b[3:end]\n",
    "        n = n-2;\n",
    "    end\n",
    "    if (n==1)\n",
    "        α[_i] = -a[1]/a[2]\n",
    "    end\n",
    "    return α\n",
    "end"
   ]
  },
  {
   "cell_type": "code",
   "execution_count": 17,
   "metadata": {
    "ExecuteTime": {
     "end_time": "2018-10-30T07:54:14.928000+01:00",
     "start_time": "2018-10-30T06:53:35.945Z"
    }
   },
   "outputs": [
    {
     "data": {
      "text/plain": [
       "6-element Array{Complex{Float64},1}:\n",
       " -0.36007579487369723 + 0.0im               \n",
       "  0.38745680836105656 + 0.0im               \n",
       "  -12.656084636134612 + 0.0im               \n",
       "  -1.8330802094207865 + 0.0im               \n",
       "     0.98089191603402 - 1.6569153010117612im\n",
       "   0.9808919160340199 + 1.656915301011761im "
      ]
     },
     "execution_count": 17,
     "metadata": {},
     "output_type": "execute_result"
    }
   ],
   "source": [
    "Bairstow(a)"
   ]
  },
  {
   "cell_type": "code",
   "execution_count": 18,
   "metadata": {
    "ExecuteTime": {
     "end_time": "2018-10-30T07:54:14.931000+01:00",
     "start_time": "2018-10-30T06:53:35.948Z"
    }
   },
   "outputs": [
    {
     "data": {
      "text/plain": [
       "6-element Array{Complex{Float64},1}:\n",
       "  -12.656084636134612 + 0.0im               \n",
       "   0.9808919160340197 + 1.6569153010117608im\n",
       "   0.9808919160340197 - 1.6569153010117608im\n",
       "  -1.8330802094207865 + 0.0im               \n",
       "  0.38745680836105684 + 0.0im               \n",
       " -0.36007579487369734 + 0.0im               "
      ]
     },
     "execution_count": 18,
     "metadata": {},
     "output_type": "execute_result"
    }
   ],
   "source": [
    "roots(Poly(a))"
   ]
  },
  {
   "cell_type": "code",
   "execution_count": 19,
   "metadata": {
    "ExecuteTime": {
     "end_time": "2018-10-30T07:54:15.074000+01:00",
     "start_time": "2018-10-30T06:53:35.952Z"
    }
   },
   "outputs": [
    {
     "data": {
      "text/plain": [
       "coeffs (generic function with 1 method)"
      ]
     },
     "execution_count": 19,
     "metadata": {},
     "output_type": "execute_result"
    }
   ],
   "source": [
    "coeffs = Polynomials.coeffs"
   ]
  },
  {
   "cell_type": "code",
   "execution_count": 20,
   "metadata": {
    "ExecuteTime": {
     "end_time": "2018-10-30T07:54:15.655000+01:00",
     "start_time": "2018-10-30T06:53:35.955Z"
    }
   },
   "outputs": [
    {
     "data": {
      "text/plain": [
       "0.016656600177063538"
      ]
     },
     "execution_count": 20,
     "metadata": {},
     "output_type": "execute_result"
    }
   ],
   "source": [
    "using LinearAlgebra\n",
    "### Przykład 2\n",
    "\n",
    "# Ustawiamy pierwiastki wielomianu\n",
    "rts = [ 3.0, 4.0, 10.0, 18.0, 24.0, 30.0, -5.0, -6.0, 5.0, 5.0, 5.0, 5.0]\n",
    "a = coeffs( poly( rts ) )\n",
    "\n",
    "rb = Bairstow(a; maxiter = 10000)\n",
    "LinearAlgebra.norm( sort( real(rb) ) - sort(rts) )"
   ]
  },
  {
   "cell_type": "code",
   "execution_count": 21,
   "metadata": {
    "ExecuteTime": {
     "end_time": "2018-10-30T07:54:15.725000+01:00",
     "start_time": "2018-10-30T06:53:35.956Z"
    }
   },
   "outputs": [
    {
     "data": {
      "text/plain": [
       "3.288790718572662e-8"
      ]
     },
     "execution_count": 21,
     "metadata": {},
     "output_type": "execute_result"
    }
   ],
   "source": [
    "### Przykład 3\n",
    "\n",
    "# Ustawiamy pierwiastki wielomianu\n",
    "rts = rand(10)\n",
    "a = coeffs( poly( rts ) )\n",
    "\n",
    "rB = Bairstow(a; maxiter = 50)\n",
    "\n",
    "LinearAlgebra.norm( sort( real(rB) ) - sort( rts ) )"
   ]
  },
  {
   "cell_type": "code",
   "execution_count": 22,
   "metadata": {
    "ExecuteTime": {
     "end_time": "2018-10-30T07:54:15.824000+01:00",
     "start_time": "2018-10-30T06:53:35.959Z"
    }
   },
   "outputs": [
    {
     "name": "stdout",
     "output_type": "stream",
     "text": [
      "a = rand(15) = [0.838731, 0.798022, 0.737902, 0.966599, 0.71755, 0.0229473, 0.289302, 0.58291, 0.212543, 0.791221, 0.583948, 0.915591, 0.999375, 0.951768, 0.47846]\n",
      "rB = Bairstow(a; maxiter=50) = Complex{Float64}[-0.748271-0.541262im, -0.748271+0.541262im, 0.222994-0.88822im, 0.222994+0.88822im, -2.53909+0.0im, 2.45173+0.0im, 2.18328-1.6865im, 2.18328+1.6865im, -2.32472-1.54479im, -2.32472+1.54479im, 0.714469-2.672im, 0.714469+2.672im, -1.01494-2.59272im, -1.01494+2.59272im]\n",
      "rP = roots(Poly(a)) = Complex{Float64}[-1.43439+0.0im, -0.729375+1.00691im, -0.729375-1.00691im, -0.962187+0.0im, -0.748271+0.541262im, -0.748271-0.541262im, 0.922356+0.348622im, 0.922356-0.348622im, 0.625939+0.800888im, 0.625939-0.800888im, -0.0899703+1.06555im, -0.0899703-1.06555im, 0.222994+0.88822im, 0.222994-0.88822im]\n"
     ]
    },
    {
     "data": {
      "text/plain": [
       "14-element Array{Float64,1}:\n",
       " -2.220446049250313e-16 \n",
       " -2.220446049250313e-16 \n",
       "  2.220446049250313e-16 \n",
       "  3.3306690738754696e-16\n",
       "  1.4895453739555495    \n",
       "  1.5530509251634306    \n",
       "  1.7727570382680957    \n",
       "  1.742323436096402     \n",
       "  1.7493983412776712    \n",
       "  1.6965354482285344    \n",
       "  1.7149579609335504    \n",
       "  1.5409748195785273    \n",
       "  1.5478662151330715    \n",
       "  1.3567962972810346    "
      ]
     },
     "execution_count": 22,
     "metadata": {},
     "output_type": "execute_result"
    }
   ],
   "source": [
    "### Przykład 4\n",
    "\n",
    "# Losujemy współczynniki wielomianu\n",
    "\n",
    "@show a = rand(15)\n",
    "@show rB = Bairstow(a; maxiter=50)\n",
    "@show rP = roots( Poly(a) )\n",
    "\n",
    "sort( abs.(rB) ) - sort( abs.(rP) )"
   ]
  },
  {
   "cell_type": "code",
   "execution_count": 23,
   "metadata": {
    "ExecuteTime": {
     "end_time": "2018-10-30T07:54:15.847000+01:00",
     "start_time": "2018-10-30T06:53:35.962Z"
    }
   },
   "outputs": [
    {
     "name": "stdout",
     "output_type": "stream",
     "text": [
      "a = rand(20) = [0.236033, 0.346517, 0.312707, 0.00790928, 0.488613, 0.210968, 0.951916, 0.999905, 0.251662, 0.986666, 0.555751, 0.437108, 0.424718, 0.773223, 0.28119, 0.209472, 0.251379, 0.0203749, 0.287702, 0.859512]\n"
     ]
    },
    {
     "data": {
      "text/plain": [
       "19-element Array{Complex{Float64},1}:\n",
       " NaN + 0.0im\n",
       " NaN + 0.0im\n",
       " NaN + 0.0im\n",
       " NaN + 0.0im\n",
       " NaN + 0.0im\n",
       " NaN + 0.0im\n",
       " NaN + 0.0im\n",
       " NaN + 0.0im\n",
       " NaN + 0.0im\n",
       " NaN + 0.0im\n",
       " NaN + 0.0im\n",
       " NaN + 0.0im\n",
       " NaN + 0.0im\n",
       " NaN + 0.0im\n",
       " NaN + 0.0im\n",
       " NaN + 0.0im\n",
       " NaN + 0.0im\n",
       " NaN + 0.0im\n",
       " NaN + 0.0im"
      ]
     },
     "execution_count": 23,
     "metadata": {},
     "output_type": "execute_result"
    }
   ],
   "source": [
    "using Random\n",
    "###\n",
    "### Niestety metoda nie działa dla większych wartości n\n",
    "Random.seed!(1)\n",
    "\n",
    "@show a = rand(20)\n",
    "rB = Bairstow(a; maxiter=50)"
   ]
  },
  {
   "cell_type": "markdown",
   "metadata": {},
   "source": [
    "## Laguerre's method"
   ]
  },
  {
   "cell_type": "code",
   "execution_count": 24,
   "metadata": {
    "ExecuteTime": {
     "end_time": "2018-10-30T07:54:15.859000+01:00",
     "start_time": "2018-10-30T06:53:35.965Z"
    }
   },
   "outputs": [],
   "source": [
    "# Laguerre's method\n",
    "# Input :\n",
    "#   coeffs - coefficients of polynomial\n",
    "#   x0     - initial approximation\n",
    "#\n",
    "# Optional parameters:\n",
    "#   *) stopping criteria\n",
    "#        ɛs   - relative error of two consecutive approximations\n",
    "#        imax - max number of iterations\n",
    "#   *) verbose mode\n",
    "#        print = true | false\n",
    "#\n",
    "# Output\n",
    "#   xr   - approximation of the root\n",
    "#   ϵ    - absolute error estimation\n",
    "#   iter - number of iterations performed\n",
    "#\n",
    "function Laguerre( coeffs, x0; ɛs=1.0e-6, imax=20, print=false )\n",
    "    iter = 0;\n",
    "    n = length(coeffs)-1;\n",
    "    xr = x0; \n",
    "    ɛa = one(x0)\n",
    "    xrs = [xr]\n",
    "    if print; @printf(\"Iter %2d : xr=%10.7f  ɛa=%.3e\\n\" , iter, xr, ɛa); end;\n",
    "    while true\n",
    "        xrold = xr\n",
    "        iter  = iter+1\n",
    "        f,df,ddf = Horner2( coeffs, xrold )\n",
    "        H = (n-1)*((n-1)*df^2 - n*f*ddf)\n",
    "        xr1    = xrold - n*f/(df + sqrt(H))\n",
    "        xr2    = xrold - n*f/(df - sqrt(H))\n",
    "        if ( abs(xr1-xrold) < abs(xr2-xrold) )\n",
    "            xr = xr1\n",
    "        else\n",
    "            xr = xr2\n",
    "        end\n",
    "        push!(xrs,xr)\n",
    "        if xr!=zero(x0)\n",
    "            ɛa = abs((xr-xrold)/xr)\n",
    "        end;\n",
    "        if print; @printf(\"Iter %2d : xr=%10.7f  ɛa=%.3e\\n\" , iter, xr, ɛa); end;\n",
    "        if ɛa<ɛs || iter>=imax\n",
    "            break;\n",
    "        end\n",
    "    end\n",
    "    return xr,xrs,iter,ɛa;\n",
    "end;"
   ]
  },
  {
   "cell_type": "code",
   "execution_count": 25,
   "metadata": {
    "ExecuteTime": {
     "end_time": "2018-10-30T07:54:15.874000+01:00",
     "start_time": "2018-10-30T06:53:35.968Z"
    }
   },
   "outputs": [
    {
     "data": {
      "text/plain": [
       "(-0.9214602452910814, [-1.0, -0.954718, -0.928949, -0.921903, -0.921462, -0.92146, -0.92146], 6, 2.3838715547716864e-11)"
      ]
     },
     "execution_count": 25,
     "metadata": {},
     "output_type": "execute_result"
    }
   ],
   "source": [
    "newton( a, -1.0, imax=50, εs=1e-10 )"
   ]
  },
  {
   "cell_type": "code",
   "execution_count": 26,
   "metadata": {
    "ExecuteTime": {
     "end_time": "2018-10-30T07:54:16.037000+01:00",
     "start_time": "2018-10-30T06:53:35.970Z"
    }
   },
   "outputs": [
    {
     "name": "stdout",
     "output_type": "stream",
     "text": [
      "Iter  0 : xr=-1.0000000  ɛa=1.000e+00\n",
      "Iter  1 : xr=-0.9163213  ɛa=9.132e-02\n",
      "Iter  2 : xr=-0.9214613  ɛa=5.578e-03\n",
      "Iter  3 : xr=-0.9214602  ɛa=1.197e-06\n",
      "Iter  4 : xr=-0.9214602  ɛa=0.000e+00\n"
     ]
    },
    {
     "data": {
      "text/plain": [
       "(-0.9214602452910814, [-1.0, -0.916321, -0.921461, -0.92146, -0.92146], 4, 0.0)"
      ]
     },
     "execution_count": 26,
     "metadata": {},
     "output_type": "execute_result"
    }
   ],
   "source": [
    "Laguerre( a, -1.0, imax=100, εs=1e-10, print=true )"
   ]
  },
  {
   "cell_type": "code",
   "execution_count": 27,
   "metadata": {
    "ExecuteTime": {
     "end_time": "2018-10-30T07:54:16.063000+01:00",
     "start_time": "2018-10-30T06:53:35.974Z"
    }
   },
   "outputs": [],
   "source": [
    "setprecision(5000)\n",
    "big_a = Array{BigFloat,1}(a);"
   ]
  },
  {
   "cell_type": "code",
   "execution_count": 28,
   "metadata": {
    "ExecuteTime": {
     "end_time": "2018-10-30T07:54:16.333000+01:00",
     "start_time": "2018-10-30T06:53:35.976Z"
    }
   },
   "outputs": [
    {
     "name": "stdout",
     "output_type": "stream",
     "text": [
      "Iter  0 : xr=-1.0000000  ɛa=1.000e+00\n",
      "Iter  1 : xr=-0.9547180  ɛa=4.743e-02\n",
      "Iter  2 : xr=-0.9289488  ɛa=2.774e-02\n",
      "Iter  3 : xr=-0.9219034  ɛa=7.642e-03\n",
      "Iter  4 : xr=-0.9214619  ɛa=4.792e-04\n",
      "Iter  5 : xr=-0.9214602  ɛa=1.765e-06\n",
      "Iter  6 : xr=-0.9214602  ɛa=2.384e-11\n",
      "Iter  7 : xr=-0.9214602  ɛa=4.349e-21\n",
      "Iter  8 : xr=-0.9214602  ɛa=1.447e-40\n",
      "Iter  9 : xr=-0.9214602  ɛa=1.603e-79\n",
      "Iter 10 : xr=-0.9214602  ɛa=1.966e-157\n",
      "Iter 11 : xr=-0.9214602  ɛa=2.958e-313\n"
     ]
    }
   ],
   "source": [
    "newton( a, BigFloat(-1.0), imax=50, εs=BigFloat(1e-200), print=true );"
   ]
  },
  {
   "cell_type": "code",
   "execution_count": 29,
   "metadata": {
    "ExecuteTime": {
     "end_time": "2018-10-30T07:54:16.496000+01:00",
     "start_time": "2018-10-30T06:53:35.979Z"
    }
   },
   "outputs": [
    {
     "name": "stdout",
     "output_type": "stream",
     "text": [
      "Iter  0 : xr=-1.0000000  ɛa=1.000e+00\n",
      "Iter  1 : xr=-0.9163213  ɛa=9.132e-02\n",
      "Iter  2 : xr=-0.9214613  ɛa=5.578e-03\n",
      "Iter  3 : xr=-0.9214602  ɛa=1.197e-06\n",
      "Iter  4 : xr=-0.9214602  ɛa=1.200e-17\n",
      "Iter  5 : xr=-0.9214602  ɛa=1.207e-50\n",
      "Iter  6 : xr=-0.9214602  ɛa=1.232e-149\n",
      "Iter  7 : xr=-0.9214602  ɛa=1.307e-446\n"
     ]
    }
   ],
   "source": [
    "Laguerre( a, BigFloat(-1.0), imax=50, εs=BigFloat(1e-200), print=true );"
   ]
  },
  {
   "cell_type": "markdown",
   "metadata": {},
   "source": [
    "Concluding, one can see the **cubic** convergence of Laguerre's method."
   ]
  }
 ],
 "metadata": {
  "kernelspec": {
   "display_name": "Julia 1.0.1",
   "language": "julia",
   "name": "julia-1.0"
  },
  "language_info": {
   "file_extension": ".jl",
   "mimetype": "application/julia",
   "name": "julia",
   "version": "1.0.1"
  },
  "toc": {
   "nav_menu": {},
   "number_sections": true,
   "sideBar": true,
   "skip_h1_title": false,
   "title_cell": "Table of Contents",
   "title_sidebar": "Contents",
   "toc_cell": false,
   "toc_position": {},
   "toc_section_display": true,
   "toc_window_display": false
  }
 },
 "nbformat": 4,
 "nbformat_minor": 2
}
